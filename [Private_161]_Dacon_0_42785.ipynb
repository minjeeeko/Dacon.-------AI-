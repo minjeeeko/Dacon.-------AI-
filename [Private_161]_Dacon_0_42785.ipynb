{
  "nbformat": 4,
  "nbformat_minor": 0,
  "metadata": {
    "colab": {
      "provenance": [],
      "authorship_tag": "ABX9TyNv1WkFwWAH+rsCmHjY+8If"
    },
    "kernelspec": {
      "name": "python3",
      "display_name": "Python 3"
    },
    "language_info": {
      "name": "python"
    }
  },
  "cells": [
    {
      "cell_type": "markdown",
      "source": [
        "### 필요한 library install"
      ],
      "metadata": {
        "id": "CyCNPNKoHAFn"
      }
    },
    {
      "cell_type": "code",
      "execution_count": null,
      "metadata": {
        "id": "MM-4NNYQAbxK"
      },
      "outputs": [],
      "source": [
        "! pip install category_encoders\n",
        "! pip install pycaret\n",
        "! pip install mljar-supervised\n",
        "!sudo apt-get install -y fonts-nanum\n",
        "!sudo fc-cache -fv\n",
        "!rm ~/.cache/matplotlib -rf"
      ]
    },
    {
      "cell_type": "markdown",
      "source": [
        "### import library"
      ],
      "metadata": {
        "id": "__8_pr69HEef"
      }
    },
    {
      "cell_type": "code",
      "source": [
        "import datetime as dt\n",
        "import random\n",
        "import pandas as pd\n",
        "import numpy as np\n",
        "import matplotlib.pyplot as plt\n",
        "import os\n",
        "import seaborn as sns\n",
        "from functools import reduce\n",
        "import pickle\n",
        "import category_encoders as ce\n",
        "from sklearn.preprocessing import StandardScaler\n",
        "plt.rc('font', family='NanumBarunGothic')"
      ],
      "metadata": {
        "id": "8B5khrvHApck"
      },
      "execution_count": null,
      "outputs": []
    },
    {
      "cell_type": "markdown",
      "source": [
        "### Setting seed"
      ],
      "metadata": {
        "id": "h3UDHUl5HHfh"
      }
    },
    {
      "cell_type": "code",
      "source": [
        "def seed_everything(seed):\n",
        "    random.seed(seed)\n",
        "    os.environ['PYTHONHASHSEED'] = str(seed)\n",
        "    np.random.seed(seed)\n",
        "\n",
        "seed_everything(23)"
      ],
      "metadata": {
        "id": "EVIbZnvIApez"
      },
      "execution_count": null,
      "outputs": []
    },
    {
      "cell_type": "markdown",
      "source": [
        "### Load Data"
      ],
      "metadata": {
        "id": "YDWGRgK0HJsC"
      }
    },
    {
      "cell_type": "code",
      "source": [
        "path = r\"/content/drive/MyDrive/data_analysis/대구 교통사고 피해 예측 AI 경진대회/data\"\n",
        "fpath = r\"/content/drive/MyDrive/data_analysis/대구 교통사고 피해 예측 AI 경진대회/data/external_open\""
      ],
      "metadata": {
        "id": "-mfueTyNAphJ"
      },
      "execution_count": null,
      "outputs": []
    },
    {
      "cell_type": "code",
      "source": [
        "# 데이터 불러오기 (외부데이터 포함)\n",
        "train_data = pd.read_csv(path + \"/train.csv\")\n",
        "test_data = pd.read_csv(path + \"/test.csv\")\n",
        "acc = pd.read_csv(fpath + \"/countrywide_accident.csv\")\n",
        "CCTV = pd.read_csv(fpath + \"/대구 CCTV 정보.csv\", encoding = 'cp949')\n",
        "light = pd.read_csv(fpath + \"/대구 보안등 정보.csv\", encoding = 'cp949', low_memory=False)\n",
        "child_protect = pd.read_csv(fpath + \"/대구 어린이 보호 구역 정보.csv\", encoding = 'cp949')\n",
        "parking = pd.read_csv(fpath + \"/대구 주차장 정보.csv\", encoding = 'cp949')"
      ],
      "metadata": {
        "id": "Aht-F_mRApjg"
      },
      "execution_count": null,
      "outputs": []
    },
    {
      "cell_type": "code",
      "source": [
        "# 제출 파일 불러오기\n",
        "sample_submission = pd.read_csv(path + '/submission.csv', encoding = 'cp949')\n",
        "baseline_submission = sample_submission.copy()"
      ],
      "metadata": {
        "id": "R0kkLr4fBAoL"
      },
      "execution_count": null,
      "outputs": []
    },
    {
      "cell_type": "code",
      "source": [
        "train = train_data.copy()\n",
        "test = test_data.copy()"
      ],
      "metadata": {
        "id": "h12A-cZzAplu"
      },
      "execution_count": null,
      "outputs": []
    },
    {
      "cell_type": "code",
      "source": [
        "# 우선 test data의 column과 맞춰주기\n",
        "cols = ['ID', '사고일시', '요일', '기상상태', '시군구', '도로형태', '노면상태', '사고유형', 'ECLO']\n",
        "train = train[cols]"
      ],
      "metadata": {
        "id": "48zQklpFApoE"
      },
      "execution_count": null,
      "outputs": []
    },
    {
      "cell_type": "code",
      "source": [
        "# 시공간 파생변수 추출\n",
        "train['사고일시'] = train['사고일시'].astype('datetime64[ns]')\n",
        "train['사고월'] = train['사고일시'].dt.month.astype(str)\n",
        "train['사고일'] = train['사고일시'].dt.day.astype(str)\n",
        "train['사고시간'] = train['사고일시'].dt.hour.astype(str)\n",
        "\n",
        "location_pattern = r'(\\S+) (\\S+) (\\S+)'\n",
        "train[['도시', '구', '동']] = train['시군구'].str.extract(location_pattern)\n",
        "train = train.drop(columns=['시군구'])"
      ],
      "metadata": {
        "id": "ok4vkIWpApq3"
      },
      "execution_count": null,
      "outputs": []
    },
    {
      "cell_type": "code",
      "source": [
        "test['사고일시'] = test['사고일시'].astype('datetime64[ns]')\n",
        "test['사고월'] = test['사고일시'].dt.month.astype(str)\n",
        "test['사고일'] = test['사고일시'].dt.day.astype(str)\n",
        "test['사고시간'] = test['사고일시'].dt.hour.astype(str)\n",
        "\n",
        "location_pattern = r'(\\S+) (\\S+) (\\S+)'\n",
        "test[['도시', '구', '동']] = test['시군구'].str.extract(location_pattern)\n",
        "test = test.drop(columns=['시군구'])"
      ],
      "metadata": {
        "id": "SEdbXd2EAptN"
      },
      "execution_count": null,
      "outputs": []
    },
    {
      "cell_type": "code",
      "source": [
        "def process_location_data(df, address_column, drop_columns):\n",
        "    location_pattern = r'(\\S+) (\\S+) (\\S+) (\\S+)'\n",
        "    df[['도시', '구', '동', '우편번호']] = df[address_column].str.extract(location_pattern)\n",
        "    df = df.drop(drop_columns, axis=1)\n",
        "    return df"
      ],
      "metadata": {
        "id": "_hJBPq7kApwC"
      },
      "execution_count": null,
      "outputs": []
    },
    {
      "cell_type": "code",
      "source": [
        "CCTV = process_location_data(CCTV, '소재지지번주소', ['소재지지번주소', '우편번호'])\n",
        "light = process_location_data(light, '소재지지번주소', ['소재지지번주소', '우편번호'])\n",
        "parking = process_location_data(parking, '소재지지번주소', ['소재지지번주소', '우편번호'])\n",
        "child_protect = process_location_data(child_protect, '소재지지번주소', ['소재지지번주소', '우편번호'])\n",
        "\n",
        "CCTV_notnull = CCTV.dropna(subset=['동'])\n",
        "light_notnull = light.dropna(subset=['동'])\n",
        "parking_notnull = parking.dropna(subset=['동'])\n",
        "child_protect_notnull = child_protect.dropna(subset=['동'])"
      ],
      "metadata": {
        "id": "h_0ZnAn5Apym"
      },
      "execution_count": null,
      "outputs": []
    },
    {
      "cell_type": "code",
      "source": [
        "# CCTV의 경우, 개별 정보이기 때문에 동별로 개수 count\n",
        "CCTV_num = CCTV_notnull.groupby('동').size().reset_index(name='CCTV개수')\n",
        "\n",
        "# 보안등의 경우, 동별로 설치 개수가 나타나있기 때문에 count\n",
        "light_num = light_notnull.groupby('동')['설치개수'].sum()\n",
        "light_num = pd.DataFrame(light_num).reset_index()\n",
        "light_num.rename(columns = {'설치개수' : '보안등개수'}, inplace = True)\n",
        "\n",
        "# 주차장 일단 급지지역으로 one-hot encoding\n",
        "parking_cat = pd.get_dummies(parking_notnull[['동', '급지구분']], columns=['급지구분'], prefix='급지')\n",
        "parking_num = parking_notnull.groupby('동').size()\n",
        "parking_num = pd.DataFrame(parking_num).reset_index()\n",
        "# 그리고 주차장 개수 더하기\n",
        "parking_num.rename(columns = {0 : '주차장개수'}, inplace = True)\n",
        "parking_pre = pd.merge(parking_num, parking_cat, how = 'left', on = '동')\n",
        "parking_pre = parking_pre.groupby('동').sum().reset_index()\n",
        "\n",
        "# 동 안에 초등학교 개수 세기\n",
        "elementary_num = child_protect_notnull.groupby('동')['대상시설명'].nunique()\n",
        "elementary_num = pd.DataFrame(elementary_num).reset_index()\n",
        "elementary_num.rename(columns = {'대상시설명' : '초등학교개수'}, inplace = True)"
      ],
      "metadata": {
        "id": "QIjFIeuCAp1T"
      },
      "execution_count": null,
      "outputs": []
    },
    {
      "cell_type": "code",
      "source": [
        "# train, test data + 외부데이터\n",
        "join_1 = pd.merge(train, CCTV_num, on = '동', how = 'left')\n",
        "join_2 = pd.merge(join_1, light_num, on = '동', how = 'left')\n",
        "join_3 = pd.merge(join_2, parking_pre, on = '동', how = 'left')\n",
        "join_4 = pd.merge(join_3, elementary_num, on = '동', how = 'left')\n",
        "train_raw = join_4.fillna(0).copy()\n",
        "\n",
        "join_1 = pd.merge(test, CCTV_num, on = '동', how = 'left')\n",
        "join_2 = pd.merge(join_1, light_num, on = '동', how = 'left')\n",
        "join_3 = pd.merge(join_2, parking_pre, on = '동', how = 'left')\n",
        "join_4 = pd.merge(join_3, elementary_num, on = '동', how = 'left')\n",
        "test_raw = join_4.fillna(0).copy()"
      ],
      "metadata": {
        "id": "1nRgNm3SAp4D"
      },
      "execution_count": null,
      "outputs": []
    },
    {
      "cell_type": "code",
      "source": [
        "# 이상치 제거\n",
        "for i in ['주차장개수', '보안등개수']:\n",
        "  Q1 = train_raw[i].quantile(0.25)\n",
        "  Q3 = train_raw[i].quantile(0.75)\n",
        "  IQR = Q3 - Q1\n",
        "\n",
        "  lower_bound = Q1 - 1.5 * IQR\n",
        "  upper_bound = Q3 + 1.5 * IQR\n",
        "\n",
        "  train_raw[i] = train_raw[i].clip(lower=lower_bound, upper=upper_bound)"
      ],
      "metadata": {
        "id": "6XFxH6TWAp6s"
      },
      "execution_count": null,
      "outputs": []
    },
    {
      "cell_type": "code",
      "source": [
        "# holiday\n",
        "holi_weekday = ['2019-01-01', '2019-02-04', '2019-02-05', '2019-02-06', '2019-03-01', '2019-05-05', '2019-05-12', '2019-06-06', '2019-08-15', '2019-09-12', '2019-09-13', '2019-09-14', '2019-10-03', '2019-10-09', '2019-12-25',\n",
        "                '2020-01-01' ,'2020-01-24' ,'2020-01-25', '2020-01-26', '2020-03-01', '2020-04-30', '2020-05-05', '2020-06-06', '2020-08-15', '2020-08-17', '2020-09-30', '2020-10-01', '2020-10-02', '2020-10-03', '2020-10-09', '2020-12-25',\n",
        "                '2021-01-01' ,'2021-02-11' ,'2021-02-12', '2021-02-13', '2021-03-01', '2021-05-05', '2021-05-19', '2021-06-06', '2021-08-15', '2021-09-20', '2021-09-21', '2021-09-22', '2021-10-03', '2021-10-09', '2021-12-25',\n",
        "                '2022-01-01' ,'2022-01-31' ,'2022-02-01', '2022-02-02', '2022-03-01', '2022-05-05', '2022-05-08', '2022-06-06', '2022-08-15', '2022-09-09', '2022-09-10', '2022-09-11', '2022-09-12', '2022-10-03', '2022-10-09', '2020-10-10', '2022-12-25',\n",
        "                '2023-01-01' ,'2023-01-21' ,'2023-01-22', '2023-01-23', '2023-01-24', '2023-03-01']"
      ],
      "metadata": {
        "id": "OvdEZCDWAp9y"
      },
      "execution_count": null,
      "outputs": []
    },
    {
      "cell_type": "code",
      "source": [
        "# 파생변수 생성\n",
        "train_raw['사고일시'] = pd.to_datetime(train_raw['사고일시'])\n",
        "train_raw['day_of_week'] = train_raw['사고일시'].dt.dayofweek\n",
        "train_raw['holiday'] = np.where((train_raw.day_of_week >= 5) | (train_raw.사고일시.dt.strftime('%Y-%m-%d').isin(holi_weekday)), 1, 0)\n",
        "\n",
        "test_raw['사고일시'] = pd.to_datetime(test_raw['사고일시'])\n",
        "test_raw['day_of_week'] = test_raw['사고일시'].dt.dayofweek\n",
        "test_raw['holiday'] = np.where((test_raw.day_of_week >= 5) | (test_raw.사고일시.dt.strftime('%Y-%m-%d').isin(holi_weekday)), 1, 0)"
      ],
      "metadata": {
        "id": "0xraqhBtAqAb"
      },
      "execution_count": null,
      "outputs": []
    },
    {
      "cell_type": "code",
      "source": [
        "train_raw['사고시간'] = train_raw['사고시간'].astype('int')\n",
        "test_raw['사고시간'] = test_raw['사고시간'].astype('int')\n",
        "\n",
        "train_raw['Cosine_Time'] = np.cos(2 * np.pi * train_raw['사고시간'] / 24)\n",
        "test_raw['Cosine_Time'] = np.cos(2 * np.pi * test_raw['사고시간'] / 24)"
      ],
      "metadata": {
        "id": "5T1E_EY2AqDJ"
      },
      "execution_count": null,
      "outputs": []
    },
    {
      "cell_type": "code",
      "source": [
        "def group_season(df):\n",
        "    df.loc[(df['사고월'] == '3') | (df['사고월'] == '4') | (df['사고월'] == '5'), 'season'] = '봄'\n",
        "    df.loc[(df['사고월'] == '6') | (df['사고월'] == '7') | (df['사고월'] == '8'), 'season'] = '여름'\n",
        "    df.loc[(df['사고월'] == '9') | (df['사고월'] == '10') | (df['사고월'] == '11'), 'season'] = '가을'\n",
        "    df.loc[(df['사고월'] == '12') | (df['사고월'] == '1') | (df['사고월'] == '2'), 'season'] = '겨울'\n",
        "    return df['season']\n",
        "\n",
        "train_raw['season'] = group_season(train_raw)\n",
        "test_raw['season'] = group_season(test_raw)"
      ],
      "metadata": {
        "id": "_pYVcRx_AqFf"
      },
      "execution_count": null,
      "outputs": []
    },
    {
      "cell_type": "code",
      "source": [
        "acc_cnt = train_raw.groupby('동').size().reset_index(name='사고횟수')\n",
        "train_raw = pd.merge(train_raw, acc_cnt, on = '동', how = 'left')\n",
        "test_raw = pd.merge(test_raw, acc_cnt, on = '동', how = 'left')"
      ],
      "metadata": {
        "id": "uO6_J4B_AqJW"
      },
      "execution_count": null,
      "outputs": []
    },
    {
      "cell_type": "code",
      "source": [
        "train_raw['요일'] = ((train_raw['요일'] == '토요일')|(train_raw['요일'] == '일요일')).astype(int)\n",
        "train_raw['기상상태'] = (train_raw['기상상태'] == '안개').astype(int)\n",
        "train_raw['사고유형'] = (train_raw['사고유형'] == '차대차').astype(int)\n",
        "\n",
        "test_raw['요일'] = ((test_raw['요일'] == '토요일')|(test_raw['요일'] == '일요일')).astype(int)\n",
        "test_raw['기상상태'] = (test_raw['기상상태'] == '안개').astype(int)\n",
        "test_raw['사고유형'] = (test_raw['사고유형'] == '차대차').astype(int)"
      ],
      "metadata": {
        "id": "pxFZnvJmA7j_"
      },
      "execution_count": null,
      "outputs": []
    },
    {
      "cell_type": "code",
      "source": [
        "# Target Encoding\n",
        "for i in ['도로형태', '노면상태', '동', 'season']:\n",
        "    le = ce.TargetEncoder(cols=[i])\n",
        "    train_raw[i] = le.fit_transform(train_raw[i], train_raw['ECLO'])\n",
        "    test_raw[i] = le.transform(test_raw[i])"
      ],
      "metadata": {
        "id": "seIT1gWyA7mH"
      },
      "execution_count": null,
      "outputs": []
    },
    {
      "cell_type": "code",
      "source": [
        "train_raw = train_raw.drop(['ID', '사고일시', '도시', '구'], axis = 1)\n",
        "test_raw = test_raw.drop(['ID', '사고일시', '도시', '구'], axis = 1)"
      ],
      "metadata": {
        "id": "LeyyxBb5A7oV"
      },
      "execution_count": null,
      "outputs": []
    },
    {
      "cell_type": "code",
      "source": [
        "# data Scaling\n",
        "scaler = StandardScaler()\n",
        "scale_col = train_raw.drop('ECLO', axis =1).columns\n",
        "train_raw[scale_col] = scaler.fit_transform(train_raw[scale_col])\n",
        "test_raw[scale_col] = scaler.fit_transform(test_raw[scale_col])"
      ],
      "metadata": {
        "id": "aZtqtp0ZA7qy"
      },
      "execution_count": null,
      "outputs": []
    },
    {
      "cell_type": "markdown",
      "source": [
        "### Prediction with AutoML"
      ],
      "metadata": {
        "id": "2M1BaCQ3HvH4"
      }
    },
    {
      "cell_type": "code",
      "source": [
        "from supervised.automl import AutoML"
      ],
      "metadata": {
        "id": "guRTacObA-8t"
      },
      "execution_count": null,
      "outputs": []
    },
    {
      "cell_type": "code",
      "source": [
        "automl = AutoML(mode=\"Compete\",\n",
        "                algorithms = ['Random Forest', 'LightGBM', 'Xgboost', 'CatBoost'],\n",
        "                n_jobs = -1,total_time_limit=43200, eval_metric=\"rmse\", ml_task = \"regression\",)"
      ],
      "metadata": {
        "id": "_wOPrS0pA--8"
      },
      "execution_count": null,
      "outputs": []
    },
    {
      "cell_type": "code",
      "source": [
        "automl.fit(X, y) # 약 4시간 소요"
      ],
      "metadata": {
        "id": "Ub7jJfUvA_BC"
      },
      "execution_count": null,
      "outputs": []
    },
    {
      "cell_type": "code",
      "source": [
        "pred = automl.predict(test_raw)\n",
        "baseline_submission['ECLO'] = pred"
      ],
      "metadata": {
        "id": "xkatrjgaA_DK"
      },
      "execution_count": null,
      "outputs": []
    },
    {
      "cell_type": "code",
      "source": [
        "baseline_submission.to_csv(path + '/mljar2_submission.csv', index = False) # 0.42785"
      ],
      "metadata": {
        "id": "GFYoEvQDA_FJ"
      },
      "execution_count": null,
      "outputs": []
    }
  ]
}